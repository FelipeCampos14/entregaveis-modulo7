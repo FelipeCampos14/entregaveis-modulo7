{
 "cells": [
  {
   "cell_type": "code",
   "execution_count": 13,
   "metadata": {},
   "outputs": [],
   "source": [
    "import pandas as pd\n",
    "import numpy as np\n",
    "import statistics as st"
   ]
  },
  {
   "cell_type": "code",
   "execution_count": 14,
   "metadata": {},
   "outputs": [
    {
     "data": {
      "text/html": [
       "<div>\n",
       "<style scoped>\n",
       "    .dataframe tbody tr th:only-of-type {\n",
       "        vertical-align: middle;\n",
       "    }\n",
       "\n",
       "    .dataframe tbody tr th {\n",
       "        vertical-align: top;\n",
       "    }\n",
       "\n",
       "    .dataframe thead th {\n",
       "        text-align: right;\n",
       "    }\n",
       "</style>\n",
       "<table border=\"1\" class=\"dataframe\">\n",
       "  <thead>\n",
       "    <tr style=\"text-align: right;\">\n",
       "      <th></th>\n",
       "      <th>Dia</th>\n",
       "      <th>Temperatura</th>\n",
       "      <th>Umidade</th>\n",
       "    </tr>\n",
       "  </thead>\n",
       "  <tbody>\n",
       "    <tr>\n",
       "      <th>0</th>\n",
       "      <td>D1</td>\n",
       "      <td>71</td>\n",
       "      <td>91</td>\n",
       "    </tr>\n",
       "    <tr>\n",
       "      <th>1</th>\n",
       "      <td>D2</td>\n",
       "      <td>69</td>\n",
       "      <td>70</td>\n",
       "    </tr>\n",
       "    <tr>\n",
       "      <th>2</th>\n",
       "      <td>D3</td>\n",
       "      <td>80</td>\n",
       "      <td>90</td>\n",
       "    </tr>\n",
       "    <tr>\n",
       "      <th>3</th>\n",
       "      <td>D4</td>\n",
       "      <td>83</td>\n",
       "      <td>86</td>\n",
       "    </tr>\n",
       "    <tr>\n",
       "      <th>4</th>\n",
       "      <td>D5</td>\n",
       "      <td>70</td>\n",
       "      <td>96</td>\n",
       "    </tr>\n",
       "    <tr>\n",
       "      <th>5</th>\n",
       "      <td>D6</td>\n",
       "      <td>65</td>\n",
       "      <td>70</td>\n",
       "    </tr>\n",
       "    <tr>\n",
       "      <th>6</th>\n",
       "      <td>D7</td>\n",
       "      <td>64</td>\n",
       "      <td>65</td>\n",
       "    </tr>\n",
       "    <tr>\n",
       "      <th>7</th>\n",
       "      <td>D8</td>\n",
       "      <td>72</td>\n",
       "      <td>90</td>\n",
       "    </tr>\n",
       "    <tr>\n",
       "      <th>8</th>\n",
       "      <td>D9</td>\n",
       "      <td>75</td>\n",
       "      <td>70</td>\n",
       "    </tr>\n",
       "    <tr>\n",
       "      <th>9</th>\n",
       "      <td>D10</td>\n",
       "      <td>68</td>\n",
       "      <td>80</td>\n",
       "    </tr>\n",
       "    <tr>\n",
       "      <th>10</th>\n",
       "      <td>D11</td>\n",
       "      <td>81</td>\n",
       "      <td>75</td>\n",
       "    </tr>\n",
       "    <tr>\n",
       "      <th>11</th>\n",
       "      <td>D12</td>\n",
       "      <td>85</td>\n",
       "      <td>85</td>\n",
       "    </tr>\n",
       "    <tr>\n",
       "      <th>12</th>\n",
       "      <td>D13</td>\n",
       "      <td>72</td>\n",
       "      <td>95</td>\n",
       "    </tr>\n",
       "    <tr>\n",
       "      <th>13</th>\n",
       "      <td>D14</td>\n",
       "      <td>75</td>\n",
       "      <td>80</td>\n",
       "    </tr>\n",
       "  </tbody>\n",
       "</table>\n",
       "</div>"
      ],
      "text/plain": [
       "    Dia  Temperatura  Umidade\n",
       "0    D1           71       91\n",
       "1    D2           69       70\n",
       "2    D3           80       90\n",
       "3    D4           83       86\n",
       "4    D5           70       96\n",
       "5    D6           65       70\n",
       "6    D7           64       65\n",
       "7    D8           72       90\n",
       "8    D9           75       70\n",
       "9   D10           68       80\n",
       "10  D11           81       75\n",
       "11  D12           85       85\n",
       "12  D13           72       95\n",
       "13  D14           75       80"
      ]
     },
     "execution_count": 14,
     "metadata": {},
     "output_type": "execute_result"
    }
   ],
   "source": [
    "# Cria o conjuto de dados, o Dataframe\n",
    "dici = {'Dia': ['D1','D2','D3','D4','D5','D6','D7','D8','D9','D10','D11','D12','D13','D14'], 'Temperatura':[71,69,80,83,70,65,64,72,75,68,81,85,72,75], 'Umidade':[91,70,90,86,96,70,65,90,70,80,75,85,95,80]}\n",
    "df1 = pd.DataFrame(data=dici)\n",
    "df1"
   ]
  },
  {
   "cell_type": "code",
   "execution_count": 15,
   "metadata": {},
   "outputs": [
    {
     "name": "stdout",
     "output_type": "stream",
     "text": [
      "Quartis temperatura: [69.5 72.  77.5] || Quartis umidade: [72.5 82.5 90. ]\n"
     ]
    }
   ],
   "source": [
    "# Divide em Quartis as colunas de temperatura e umidade\n",
    "temperatura = np.quantile(df1['Temperatura'], [0.25,0.5,0.75], method='midpoint')\n",
    "umidade = np.quantile(df1['Umidade'], [0.25,0.5,0.75], method='midpoint')\n",
    "print(f'Quartis temperatura: {temperatura} || Quartis umidade: {umidade}')"
   ]
  },
  {
   "cell_type": "code",
   "execution_count": 16,
   "metadata": {},
   "outputs": [
    {
     "name": "stdout",
     "output_type": "stream",
     "text": [
      "IQR temperatura: 8.0 || IQR umidade: 17.5\n"
     ]
    }
   ],
   "source": [
    "# Define o IQR das colunas\n",
    "iqr_temperatura = temperatura[-1] - temperatura[0]\n",
    "iqr_umidade = umidade[-1] - umidade[0]\n",
    "print(f'IQR temperatura: {iqr_temperatura} || IQR umidade: {iqr_umidade}')"
   ]
  },
  {
   "cell_type": "code",
   "execution_count": 17,
   "metadata": {},
   "outputs": [],
   "source": [
    "# Adiciona os outliers a listas para armazená-los\n",
    "outliers_temperatura = list()\n",
    "outliers_umidade = list()\n",
    "for i in df1['Temperatura']:\n",
    "    if (i < (temperatura[0]-1.5*iqr_temperatura)) or (i > (temperatura[-1]+1.5*iqr_temperatura)):\n",
    "        outliers_temperatura.append(i)\n",
    "\n",
    "for j in df1['Umidade']:\n",
    "    if (j < (umidade[0]-1.5*iqr_umidade)) or (j > (umidade[-1]+1.5*iqr_umidade)):\n",
    "        outliers_umidade.append(j)"
   ]
  },
  {
   "cell_type": "code",
   "execution_count": 18,
   "metadata": {},
   "outputs": [
    {
     "name": "stdout",
     "output_type": "stream",
     "text": [
      "Não há ouliers em ambos conjuntos\n"
     ]
    }
   ],
   "source": [
    "# Dá reposta da pergunta        \n",
    "if (outliers_temperatura == []) and (outliers_umidade == []):\n",
    "    print('Não há ouliers em ambos conjuntos')\n",
    "elif (outliers_temperatura != []) and (outliers_umidade != []):\n",
    "    print(f'Há outliers em ambos, os de temperatura são: {outliers_temperatura}; e os de umidade são: {outliers_umidade}.')\n",
    "elif (outliers_temperatura == []) and (outliers_umidade != []):\n",
    "    print(f'Não há ouliers em temperatura, mas há em umidade, eles são {outliers_umidade}.')\n",
    "elif (outliers_temperatura != []) and (outliers_umidade == []):\n",
    "    print(f'Não há ouliers em umidade, mas há em temperatura, eles são {outliers_temperatura}.')"
   ]
  }
 ],
 "metadata": {
  "kernelspec": {
   "display_name": "Projeto",
   "language": "python",
   "name": "python3"
  },
  "language_info": {
   "codemirror_mode": {
    "name": "ipython",
    "version": 3
   },
   "file_extension": ".py",
   "mimetype": "text/x-python",
   "name": "python",
   "nbconvert_exporter": "python",
   "pygments_lexer": "ipython3",
   "version": "3.9.16"
  },
  "orig_nbformat": 4
 },
 "nbformat": 4,
 "nbformat_minor": 2
}
